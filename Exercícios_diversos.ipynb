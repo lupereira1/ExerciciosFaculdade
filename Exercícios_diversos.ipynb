{
  "nbformat": 4,
  "nbformat_minor": 0,
  "metadata": {
    "colab": {
      "provenance": [],
      "authorship_tag": "ABX9TyPPvkrXuH+sNtob4q0PsS6U",
      "include_colab_link": true
    },
    "kernelspec": {
      "name": "python3",
      "display_name": "Python 3"
    },
    "language_info": {
      "name": "python"
    }
  },
  "cells": [
    {
      "cell_type": "markdown",
      "metadata": {
        "id": "view-in-github",
        "colab_type": "text"
      },
      "source": [
        "<a href=\"https://colab.research.google.com/github/lupereira1/ExerciciosFaculdade/blob/main/Exerc%C3%ADcios_diversos.ipynb\" target=\"_parent\"><img src=\"https://colab.research.google.com/assets/colab-badge.svg\" alt=\"Open In Colab\"/></a>"
      ]
    },
    {
      "cell_type": "code",
      "source": [
        "#1\n",
        "p = int(input('Informe a quantidade de camisetas tamanho P: '))\n",
        "m = int(input('Informe a  quantidade de camisetas tamanho M: '))\n",
        "g = int(input('Informe a quantidade de camisetas tamanho G: '))\n",
        "\n",
        "p1 = 10\n",
        "m1 = 12\n",
        "g1 = 15\n",
        "compra = (p*p1)+(m*m1)+(g*g1)\n",
        "\n",
        "print(f\"O custo total da venda foi: R${compra}\")"
      ],
      "metadata": {
        "id": "otsa-UyhwwUI"
      },
      "execution_count": null,
      "outputs": []
    },
    {
      "cell_type": "code",
      "source": [],
      "metadata": {
        "id": "w4NxwECjnpCT"
      },
      "execution_count": null,
      "outputs": []
    },
    {
      "cell_type": "code",
      "execution_count": null,
      "metadata": {
        "id": "zfsyWjrKnx2y"
      },
      "outputs": [],
      "source": [
        "#2\n",
        "qtdSanduiches = int(input( \"Informe a quantidade de sanduiches: \" ))\n",
        "queijo = 2*qtdSanduiches\n",
        "peso_queijo = queijo*50\n",
        "presunto = qtdSanduiches\n",
        "peso_presunto = presunto*50\n",
        "hamburguer = qtdSanduiches\n",
        "peso_hamburguer = 100*qtdSanduiches\n",
        "print(f'você irá precisar de {queijo} fatias de queijo, {presunto} fatias de presunto e {hamburguer} rodelas de hamburguer');\n",
        "print(f'você irá precisar de {peso_queijo}g de queijo, {peso_presunto}g de preesunto e {peso_hamburguer}g de carne para hamburguer');"
      ]
    },
    {
      "cell_type": "code",
      "source": [
        "#3\n",
        "hora = int(input('Informe quantas horas você trabalhou: '))*10\n",
        "hora_extra = int(input('Informe quantas horas extras você trabalhou: '))*15\n",
        "\n",
        "salario_bruto = hora + hora_extra\n",
        "salario_liquido = (salario_bruto * 0.9)\n",
        "\n",
        "print(f'O seu salário bruto é : R${salario_bruto} e o seu salário líquido é: R${salario_liquido}')"
      ],
      "metadata": {
        "id": "-RysFez6Z6x1"
      },
      "execution_count": null,
      "outputs": []
    },
    {
      "cell_type": "code",
      "source": [
        "#4\n",
        "h = float(input(\"informe o valor da altura em mts² do terreno: \"));\n",
        "b = float(input(\"informe o valor da base em mts² do terreno: \"));\n",
        "\n",
        "Area_do_terreno = (h*b)\n",
        "\n",
        "print(f\"O tamanho da área do seu terreno é {Area_do_terreno} mts²: \")\n"
      ],
      "metadata": {
        "id": "ZYwY5lBCbruS"
      },
      "execution_count": null,
      "outputs": []
    },
    {
      "cell_type": "code",
      "source": [
        "#5\n",
        "dia = int(input(\"informe qual dia é hoje: \"));\n",
        "mês = int(input(\"informe em qual mês estamos: \"));\n",
        "\n",
        "qtd_dias_passados = (mês-1)*30 + dia \n",
        "\n",
        "print(f\"O total de dias passados do ano até o momento é: {qtd_dias_passados} dias \")"
      ],
      "metadata": {
        "colab": {
          "base_uri": "https://localhost:8080/"
        },
        "id": "hry31daNfckQ",
        "outputId": "f8bcd380-3aff-4833-9ea1-f638e30f981b"
      },
      "execution_count": null,
      "outputs": [
        {
          "output_type": "stream",
          "name": "stdout",
          "text": [
            "informe qual dia é hoje: 02\n",
            "informe em qual mês estamos: 09\n",
            "O total de dias passados do ano até o momento é: 242 dias \n"
          ]
        }
      ]
    },
    {
      "cell_type": "code",
      "source": [
        "#6\n",
        "um_cent = float(input\"Informe a quantidade de moedas de um centavo no cofrinho: \"))*0.01\n",
        "cinco_cent= float(input(\"Informe a quantidade de moedas de cinco centavos no cofrinho: \"))*0.05\n",
        "dez_cent = float(input(\"Informe a quantidade de moedas de dez centavos no cofrinho: \"))*0.10\n",
        "vinte_cinco_cent = float(input(\"Informe a quantidade de moedas de vinte cinco centavos no cofrinho: \"))*0.25\n",
        "cinquenta_cent  = float(input(\"Informe a quantidade de moedas de cinquenta centavos no cofrinho: \"))*0.50\n",
        "um_real = int(input(\"Informe a quantidade de moedas de um real no cofrinho: \"))*1.0\n",
        "\n",
        "\n",
        "valor_cofrinho = (um_cent + cinco_cent + dez_cent + vinte_cinco_cent + cinquenta_cent + um_real)\n",
        "\n",
        "print(f\"o valor total dentro do cofrinho é: {valor_cofrinho} reais \")"
      ],
      "metadata": {
        "id": "iOuTodjdyO2k"
      },
      "execution_count": null,
      "outputs": []
    },
    {
      "cell_type": "code",
      "source": [
        "#7\n",
        "\n",
        "salario = float(input('Informe o salário do funcionário: '))\n",
        "vendas = float(input('Informe o total de vendas: '))\n",
        "\n",
        "#comissão\n",
        "comissão = (vendas/100)*4\n",
        "salario_final = salario + comissão\n",
        "\n",
        "print(f'O salário final é R${salario_final} e sua comissão é R${comissão}')"
      ],
      "metadata": {
        "id": "6FKHDFp83bar"
      },
      "execution_count": null,
      "outputs": []
    }
  ]
}